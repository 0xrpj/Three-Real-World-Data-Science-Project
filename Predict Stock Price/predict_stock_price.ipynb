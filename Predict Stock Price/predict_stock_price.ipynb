{
 "cells": [
  {
   "cell_type": "markdown",
   "id": "ea8c0f1a",
   "metadata": {},
   "source": [
    "## Importing Libraries"
   ]
  },
  {
   "cell_type": "code",
   "execution_count": 1,
   "id": "40546cb0",
   "metadata": {},
   "outputs": [],
   "source": [
    "import pandas as pd \n",
    "import numpy as np \n",
    "import matplotlib.pyplot as plt \n",
    "import seaborn as sns "
   ]
  },
  {
   "cell_type": "markdown",
   "id": "795d20a6",
   "metadata": {},
   "source": [
    "## Import Dataset"
   ]
  },
  {
   "cell_type": "code",
   "execution_count": 2,
   "id": "88626946",
   "metadata": {},
   "outputs": [],
   "source": [
    "dataset = pd.read_csv('./dataset/finace_data.csv')"
   ]
  },
  {
   "cell_type": "code",
   "execution_count": 3,
   "id": "60940175",
   "metadata": {},
   "outputs": [
    {
     "data": {
      "text/html": [
       "<div>\n",
       "<style scoped>\n",
       "    .dataframe tbody tr th:only-of-type {\n",
       "        vertical-align: middle;\n",
       "    }\n",
       "\n",
       "    .dataframe tbody tr th {\n",
       "        vertical-align: top;\n",
       "    }\n",
       "\n",
       "    .dataframe thead th {\n",
       "        text-align: right;\n",
       "    }\n",
       "</style>\n",
       "<table border=\"1\" class=\"dataframe\">\n",
       "  <thead>\n",
       "    <tr style=\"text-align: right;\">\n",
       "      <th></th>\n",
       "      <th>Date</th>\n",
       "      <th>Symbol</th>\n",
       "      <th>Series</th>\n",
       "      <th>Prev Close</th>\n",
       "      <th>Open</th>\n",
       "      <th>High</th>\n",
       "      <th>Low</th>\n",
       "      <th>Last</th>\n",
       "      <th>Close</th>\n",
       "      <th>VWAP</th>\n",
       "      <th>Volume</th>\n",
       "      <th>Turnover</th>\n",
       "      <th>Trades</th>\n",
       "      <th>Deliverable Volume</th>\n",
       "      <th>%Deliverble</th>\n",
       "    </tr>\n",
       "  </thead>\n",
       "  <tbody>\n",
       "    <tr>\n",
       "      <th>0</th>\n",
       "      <td>2000-01-03</td>\n",
       "      <td>BAJAUTOFIN</td>\n",
       "      <td>EQ</td>\n",
       "      <td>46.95</td>\n",
       "      <td>49.45</td>\n",
       "      <td>50.75</td>\n",
       "      <td>46.5</td>\n",
       "      <td>50.75</td>\n",
       "      <td>50.75</td>\n",
       "      <td>50.05</td>\n",
       "      <td>7600</td>\n",
       "      <td>3.803800e+10</td>\n",
       "      <td>NaN</td>\n",
       "      <td>NaN</td>\n",
       "      <td>NaN</td>\n",
       "    </tr>\n",
       "    <tr>\n",
       "      <th>1</th>\n",
       "      <td>2000-01-04</td>\n",
       "      <td>BAJAUTOFIN</td>\n",
       "      <td>EQ</td>\n",
       "      <td>50.75</td>\n",
       "      <td>53.20</td>\n",
       "      <td>53.20</td>\n",
       "      <td>47.9</td>\n",
       "      <td>48.00</td>\n",
       "      <td>48.10</td>\n",
       "      <td>48.56</td>\n",
       "      <td>5000</td>\n",
       "      <td>2.428000e+10</td>\n",
       "      <td>NaN</td>\n",
       "      <td>NaN</td>\n",
       "      <td>NaN</td>\n",
       "    </tr>\n",
       "    <tr>\n",
       "      <th>2</th>\n",
       "      <td>2000-01-05</td>\n",
       "      <td>BAJAUTOFIN</td>\n",
       "      <td>EQ</td>\n",
       "      <td>48.10</td>\n",
       "      <td>46.55</td>\n",
       "      <td>47.40</td>\n",
       "      <td>44.6</td>\n",
       "      <td>44.60</td>\n",
       "      <td>44.60</td>\n",
       "      <td>45.47</td>\n",
       "      <td>3500</td>\n",
       "      <td>1.591450e+10</td>\n",
       "      <td>NaN</td>\n",
       "      <td>NaN</td>\n",
       "      <td>NaN</td>\n",
       "    </tr>\n",
       "    <tr>\n",
       "      <th>3</th>\n",
       "      <td>2000-01-06</td>\n",
       "      <td>BAJAUTOFIN</td>\n",
       "      <td>EQ</td>\n",
       "      <td>44.60</td>\n",
       "      <td>43.50</td>\n",
       "      <td>46.00</td>\n",
       "      <td>42.1</td>\n",
       "      <td>46.00</td>\n",
       "      <td>45.25</td>\n",
       "      <td>44.43</td>\n",
       "      <td>6200</td>\n",
       "      <td>2.754750e+10</td>\n",
       "      <td>NaN</td>\n",
       "      <td>NaN</td>\n",
       "      <td>NaN</td>\n",
       "    </tr>\n",
       "    <tr>\n",
       "      <th>4</th>\n",
       "      <td>2000-01-07</td>\n",
       "      <td>BAJAUTOFIN</td>\n",
       "      <td>EQ</td>\n",
       "      <td>45.25</td>\n",
       "      <td>48.00</td>\n",
       "      <td>48.00</td>\n",
       "      <td>42.0</td>\n",
       "      <td>42.90</td>\n",
       "      <td>42.90</td>\n",
       "      <td>44.44</td>\n",
       "      <td>3500</td>\n",
       "      <td>1.555550e+10</td>\n",
       "      <td>NaN</td>\n",
       "      <td>NaN</td>\n",
       "      <td>NaN</td>\n",
       "    </tr>\n",
       "  </tbody>\n",
       "</table>\n",
       "</div>"
      ],
      "text/plain": [
       "         Date      Symbol Series  Prev Close   Open   High   Low   Last  \\\n",
       "0  2000-01-03  BAJAUTOFIN     EQ       46.95  49.45  50.75  46.5  50.75   \n",
       "1  2000-01-04  BAJAUTOFIN     EQ       50.75  53.20  53.20  47.9  48.00   \n",
       "2  2000-01-05  BAJAUTOFIN     EQ       48.10  46.55  47.40  44.6  44.60   \n",
       "3  2000-01-06  BAJAUTOFIN     EQ       44.60  43.50  46.00  42.1  46.00   \n",
       "4  2000-01-07  BAJAUTOFIN     EQ       45.25  48.00  48.00  42.0  42.90   \n",
       "\n",
       "   Close   VWAP  Volume      Turnover  Trades  Deliverable Volume  %Deliverble  \n",
       "0  50.75  50.05    7600  3.803800e+10     NaN                 NaN          NaN  \n",
       "1  48.10  48.56    5000  2.428000e+10     NaN                 NaN          NaN  \n",
       "2  44.60  45.47    3500  1.591450e+10     NaN                 NaN          NaN  \n",
       "3  45.25  44.43    6200  2.754750e+10     NaN                 NaN          NaN  \n",
       "4  42.90  44.44    3500  1.555550e+10     NaN                 NaN          NaN  "
      ]
     },
     "execution_count": 3,
     "metadata": {},
     "output_type": "execute_result"
    }
   ],
   "source": [
    "dataset.head()"
   ]
  },
  {
   "cell_type": "markdown",
   "id": "e277bd15",
   "metadata": {},
   "source": [
    "## Shape of dataset"
   ]
  },
  {
   "cell_type": "code",
   "execution_count": 4,
   "id": "810b322e",
   "metadata": {},
   "outputs": [
    {
     "data": {
      "text/plain": [
       "(5070, 15)"
      ]
     },
     "execution_count": 4,
     "metadata": {},
     "output_type": "execute_result"
    }
   ],
   "source": [
    "dataset.shape"
   ]
  },
  {
   "cell_type": "markdown",
   "id": "11339ed2",
   "metadata": {},
   "source": [
    "## Making Data column as index "
   ]
  },
  {
   "cell_type": "code",
   "execution_count": 5,
   "id": "7a17f1c1",
   "metadata": {},
   "outputs": [],
   "source": [
    "dataset.set_index('Date', inplace = True)"
   ]
  },
  {
   "cell_type": "code",
   "execution_count": 6,
   "id": "0b477ad1",
   "metadata": {},
   "outputs": [
    {
     "data": {
      "text/html": [
       "<div>\n",
       "<style scoped>\n",
       "    .dataframe tbody tr th:only-of-type {\n",
       "        vertical-align: middle;\n",
       "    }\n",
       "\n",
       "    .dataframe tbody tr th {\n",
       "        vertical-align: top;\n",
       "    }\n",
       "\n",
       "    .dataframe thead th {\n",
       "        text-align: right;\n",
       "    }\n",
       "</style>\n",
       "<table border=\"1\" class=\"dataframe\">\n",
       "  <thead>\n",
       "    <tr style=\"text-align: right;\">\n",
       "      <th></th>\n",
       "      <th>Symbol</th>\n",
       "      <th>Series</th>\n",
       "      <th>Prev Close</th>\n",
       "      <th>Open</th>\n",
       "      <th>High</th>\n",
       "      <th>Low</th>\n",
       "      <th>Last</th>\n",
       "      <th>Close</th>\n",
       "      <th>VWAP</th>\n",
       "      <th>Volume</th>\n",
       "      <th>Turnover</th>\n",
       "      <th>Trades</th>\n",
       "      <th>Deliverable Volume</th>\n",
       "      <th>%Deliverble</th>\n",
       "    </tr>\n",
       "    <tr>\n",
       "      <th>Date</th>\n",
       "      <th></th>\n",
       "      <th></th>\n",
       "      <th></th>\n",
       "      <th></th>\n",
       "      <th></th>\n",
       "      <th></th>\n",
       "      <th></th>\n",
       "      <th></th>\n",
       "      <th></th>\n",
       "      <th></th>\n",
       "      <th></th>\n",
       "      <th></th>\n",
       "      <th></th>\n",
       "      <th></th>\n",
       "    </tr>\n",
       "  </thead>\n",
       "  <tbody>\n",
       "    <tr>\n",
       "      <th>2000-01-03</th>\n",
       "      <td>BAJAUTOFIN</td>\n",
       "      <td>EQ</td>\n",
       "      <td>46.95</td>\n",
       "      <td>49.45</td>\n",
       "      <td>50.75</td>\n",
       "      <td>46.5</td>\n",
       "      <td>50.75</td>\n",
       "      <td>50.75</td>\n",
       "      <td>50.05</td>\n",
       "      <td>7600</td>\n",
       "      <td>3.803800e+10</td>\n",
       "      <td>NaN</td>\n",
       "      <td>NaN</td>\n",
       "      <td>NaN</td>\n",
       "    </tr>\n",
       "    <tr>\n",
       "      <th>2000-01-04</th>\n",
       "      <td>BAJAUTOFIN</td>\n",
       "      <td>EQ</td>\n",
       "      <td>50.75</td>\n",
       "      <td>53.20</td>\n",
       "      <td>53.20</td>\n",
       "      <td>47.9</td>\n",
       "      <td>48.00</td>\n",
       "      <td>48.10</td>\n",
       "      <td>48.56</td>\n",
       "      <td>5000</td>\n",
       "      <td>2.428000e+10</td>\n",
       "      <td>NaN</td>\n",
       "      <td>NaN</td>\n",
       "      <td>NaN</td>\n",
       "    </tr>\n",
       "    <tr>\n",
       "      <th>2000-01-05</th>\n",
       "      <td>BAJAUTOFIN</td>\n",
       "      <td>EQ</td>\n",
       "      <td>48.10</td>\n",
       "      <td>46.55</td>\n",
       "      <td>47.40</td>\n",
       "      <td>44.6</td>\n",
       "      <td>44.60</td>\n",
       "      <td>44.60</td>\n",
       "      <td>45.47</td>\n",
       "      <td>3500</td>\n",
       "      <td>1.591450e+10</td>\n",
       "      <td>NaN</td>\n",
       "      <td>NaN</td>\n",
       "      <td>NaN</td>\n",
       "    </tr>\n",
       "    <tr>\n",
       "      <th>2000-01-06</th>\n",
       "      <td>BAJAUTOFIN</td>\n",
       "      <td>EQ</td>\n",
       "      <td>44.60</td>\n",
       "      <td>43.50</td>\n",
       "      <td>46.00</td>\n",
       "      <td>42.1</td>\n",
       "      <td>46.00</td>\n",
       "      <td>45.25</td>\n",
       "      <td>44.43</td>\n",
       "      <td>6200</td>\n",
       "      <td>2.754750e+10</td>\n",
       "      <td>NaN</td>\n",
       "      <td>NaN</td>\n",
       "      <td>NaN</td>\n",
       "    </tr>\n",
       "    <tr>\n",
       "      <th>2000-01-07</th>\n",
       "      <td>BAJAUTOFIN</td>\n",
       "      <td>EQ</td>\n",
       "      <td>45.25</td>\n",
       "      <td>48.00</td>\n",
       "      <td>48.00</td>\n",
       "      <td>42.0</td>\n",
       "      <td>42.90</td>\n",
       "      <td>42.90</td>\n",
       "      <td>44.44</td>\n",
       "      <td>3500</td>\n",
       "      <td>1.555550e+10</td>\n",
       "      <td>NaN</td>\n",
       "      <td>NaN</td>\n",
       "      <td>NaN</td>\n",
       "    </tr>\n",
       "  </tbody>\n",
       "</table>\n",
       "</div>"
      ],
      "text/plain": [
       "                Symbol Series  Prev Close   Open   High   Low   Last  Close  \\\n",
       "Date                                                                          \n",
       "2000-01-03  BAJAUTOFIN     EQ       46.95  49.45  50.75  46.5  50.75  50.75   \n",
       "2000-01-04  BAJAUTOFIN     EQ       50.75  53.20  53.20  47.9  48.00  48.10   \n",
       "2000-01-05  BAJAUTOFIN     EQ       48.10  46.55  47.40  44.6  44.60  44.60   \n",
       "2000-01-06  BAJAUTOFIN     EQ       44.60  43.50  46.00  42.1  46.00  45.25   \n",
       "2000-01-07  BAJAUTOFIN     EQ       45.25  48.00  48.00  42.0  42.90  42.90   \n",
       "\n",
       "             VWAP  Volume      Turnover  Trades  Deliverable Volume  \\\n",
       "Date                                                                  \n",
       "2000-01-03  50.05    7600  3.803800e+10     NaN                 NaN   \n",
       "2000-01-04  48.56    5000  2.428000e+10     NaN                 NaN   \n",
       "2000-01-05  45.47    3500  1.591450e+10     NaN                 NaN   \n",
       "2000-01-06  44.43    6200  2.754750e+10     NaN                 NaN   \n",
       "2000-01-07  44.44    3500  1.555550e+10     NaN                 NaN   \n",
       "\n",
       "            %Deliverble  \n",
       "Date                     \n",
       "2000-01-03          NaN  \n",
       "2000-01-04          NaN  \n",
       "2000-01-05          NaN  \n",
       "2000-01-06          NaN  \n",
       "2000-01-07          NaN  "
      ]
     },
     "execution_count": 6,
     "metadata": {},
     "output_type": "execute_result"
    }
   ],
   "source": [
    "dataset.head()"
   ]
  },
  {
   "cell_type": "markdown",
   "id": "fe7d8517",
   "metadata": {},
   "source": [
    "## Checking trend of VWAP (Volume weighted average price)"
   ]
  },
  {
   "cell_type": "code",
   "execution_count": 7,
   "id": "296ca90f",
   "metadata": {},
   "outputs": [
    {
     "data": {
      "text/plain": [
       "<AxesSubplot:xlabel='Date'>"
      ]
     },
     "execution_count": 7,
     "metadata": {},
     "output_type": "execute_result"
    },
    {
     "data": {
      "image/png": "[encoded data removed]",
      "text/plain": [
       "<Figure size 432x288 with 1 Axes>"
      ]
     },
     "metadata": {
      "needs_background": "light"
     },
     "output_type": "display_data"
    }
   ],
   "source": [
    "dataset['VWAP'].plot()"
   ]
  },
  {
   "cell_type": "raw",
   "id": "14905b10",
   "metadata": {},
   "source": [
    "From this visual image, I can observe, I have some kind of seasonality in my data because I can see my mean and Standard deviation is not constant throughout the data. So, I have do to some feature engineering."
   ]
  },
  {
   "cell_type": "markdown",
   "id": "bf107d3e",
   "metadata": {},
   "source": [
    "## Checking null values"
   ]
  },
  {
   "cell_type": "code",
   "execution_count": 8,
   "id": "fc1e24c6",
   "metadata": {},
   "outputs": [
    {
     "data": {
      "text/plain": [
       "Symbol                   0\n",
       "Series                   0\n",
       "Prev Close               0\n",
       "Open                     0\n",
       "High                     0\n",
       "Low                      0\n",
       "Last                     0\n",
       "Close                    0\n",
       "VWAP                     0\n",
       "Volume                   0\n",
       "Turnover                 0\n",
       "Trades                2779\n",
       "Deliverable Volume     446\n",
       "%Deliverble            446\n",
       "dtype: int64"
      ]
     },
     "execution_count": 8,
     "metadata": {},
     "output_type": "execute_result"
    }
   ],
   "source": [
    "dataset.isna().sum()"
   ]
  },
  {
   "cell_type": "raw",
   "id": "bc8622cc",
   "metadata": {},
   "source": [
    "From above command, we see there is must NaN values in Trades, Deliverable Volume, and %Deliverable column. We can simply drop this or we can imputed using Mean or Median or some different advance approaches. \n",
    "\n",
    "For the shape of simplicity, I am going to drop all these missing values. "
   ]
  },
  {
   "cell_type": "markdown",
   "id": "c2b166ba",
   "metadata": {},
   "source": [
    "## Drop Missing Values"
   ]
  },
  {
   "cell_type": "code",
   "execution_count": 9,
   "id": "ff271744",
   "metadata": {},
   "outputs": [],
   "source": [
    "dataset.dropna(inplace = True)"
   ]
  },
  {
   "cell_type": "code",
   "execution_count": 10,
   "id": "b956341d",
   "metadata": {},
   "outputs": [
    {
     "data": {
      "text/plain": [
       "Symbol                0\n",
       "Series                0\n",
       "Prev Close            0\n",
       "Open                  0\n",
       "High                  0\n",
       "Low                   0\n",
       "Last                  0\n",
       "Close                 0\n",
       "VWAP                  0\n",
       "Volume                0\n",
       "Turnover              0\n",
       "Trades                0\n",
       "Deliverable Volume    0\n",
       "%Deliverble           0\n",
       "dtype: int64"
      ]
     },
     "execution_count": 10,
     "metadata": {},
     "output_type": "execute_result"
    }
   ],
   "source": [
    "dataset.isna().sum()"
   ]
  },
  {
   "cell_type": "code",
   "execution_count": 11,
   "id": "19a1aea9",
   "metadata": {},
   "outputs": [
    {
     "data": {
      "text/plain": [
       "(2291, 14)"
      ]
     },
     "execution_count": 11,
     "metadata": {},
     "output_type": "execute_result"
    }
   ],
   "source": [
    "dataset.shape"
   ]
  },
  {
   "cell_type": "code",
   "execution_count": 12,
   "id": "d2b850fe",
   "metadata": {},
   "outputs": [],
   "source": [
    "data = dataset.copy()"
   ]
  },
  {
   "cell_type": "code",
   "execution_count": 13,
   "id": "e835ad31",
   "metadata": {
    "scrolled": true
   },
   "outputs": [
    {
     "data": {
      "text/plain": [
       "Symbol                 object\n",
       "Series                 object\n",
       "Prev Close            float64\n",
       "Open                  float64\n",
       "High                  float64\n",
       "Low                   float64\n",
       "Last                  float64\n",
       "Close                 float64\n",
       "VWAP                  float64\n",
       "Volume                  int64\n",
       "Turnover              float64\n",
       "Trades                float64\n",
       "Deliverable Volume    float64\n",
       "%Deliverble           float64\n",
       "dtype: object"
      ]
     },
     "execution_count": 13,
     "metadata": {},
     "output_type": "execute_result"
    }
   ],
   "source": [
    "data.dtypes"
   ]
  },
  {
   "cell_type": "markdown",
   "id": "049faca2",
   "metadata": {},
   "source": [
    "## Feature Engineering"
   ]
  },
  {
   "cell_type": "code",
   "execution_count": 14,
   "id": "32b92c7b",
   "metadata": {},
   "outputs": [
    {
     "data": {
      "text/plain": [
       "Index(['Symbol', 'Series', 'Prev Close', 'Open', 'High', 'Low', 'Last',\n",
       "       'Close', 'VWAP', 'Volume', 'Turnover', 'Trades', 'Deliverable Volume',\n",
       "       '%Deliverble'],\n",
       "      dtype='object')"
      ]
     },
     "execution_count": 14,
     "metadata": {},
     "output_type": "execute_result"
    }
   ],
   "source": [
    "data.columns"
   ]
  },
  {
   "cell_type": "code",
   "execution_count": 15,
   "id": "78bd619b",
   "metadata": {},
   "outputs": [],
   "source": [
    "lag_features = ['High', 'Low', 'Volume', 'Turnover', 'Trades']\n",
    "\n",
    "window_01 = 3\n",
    "window_02 = 7"
   ]
  },
  {
   "cell_type": "code",
   "execution_count": 16,
   "id": "9efc6863",
   "metadata": {},
   "outputs": [],
   "source": [
    "for features in lag_features:\n",
    "    data[features+' rolling_mean_3'] =  data[features].rolling(window_01).mean()\n",
    "    data[features+' rolling_mean_7'] =  data[features].rolling(window_02).mean()\n",
    "    "
   ]
  },
  {
   "cell_type": "code",
   "execution_count": 17,
   "id": "48952af8",
   "metadata": {},
   "outputs": [],
   "source": [
    "for features in lag_features:\n",
    "    data[features+' rolling_std_3'] =  data[features].rolling(window_01).std()\n",
    "    data[features+' rolling_std_7'] =  data[features].rolling(window_02).std()\n",
    "    "
   ]
  },
  {
   "cell_type": "code",
   "execution_count": 18,
   "id": "d6e4fb1c",
   "metadata": {},
   "outputs": [
    {
     "data": {
      "text/html": [
       "<div>\n",
       "<style scoped>\n",
       "    .dataframe tbody tr th:only-of-type {\n",
       "        vertical-align: middle;\n",
       "    }\n",
       "\n",
       "    .dataframe tbody tr th {\n",
       "        vertical-align: top;\n",
       "    }\n",
       "\n",
       "    .dataframe thead th {\n",
       "        text-align: right;\n",
       "    }\n",
       "</style>\n",
       "<table border=\"1\" class=\"dataframe\">\n",
       "  <thead>\n",
       "    <tr style=\"text-align: right;\">\n",
       "      <th></th>\n",
       "      <th>Symbol</th>\n",
       "      <th>Series</th>\n",
       "      <th>Prev Close</th>\n",
       "      <th>Open</th>\n",
       "      <th>High</th>\n",
       "      <th>Low</th>\n",
       "      <th>Last</th>\n",
       "      <th>Close</th>\n",
       "      <th>VWAP</th>\n",
       "      <th>Volume</th>\n",
       "      <th>...</th>\n",
       "      <th>High rolling_std_3</th>\n",
       "      <th>High rolling_std_7</th>\n",
       "      <th>Low rolling_std_3</th>\n",
       "      <th>Low rolling_std_7</th>\n",
       "      <th>Volume rolling_std_3</th>\n",
       "      <th>Volume rolling_std_7</th>\n",
       "      <th>Turnover rolling_std_3</th>\n",
       "      <th>Turnover rolling_std_7</th>\n",
       "      <th>Trades rolling_std_3</th>\n",
       "      <th>Trades rolling_std_7</th>\n",
       "    </tr>\n",
       "    <tr>\n",
       "      <th>Date</th>\n",
       "      <th></th>\n",
       "      <th></th>\n",
       "      <th></th>\n",
       "      <th></th>\n",
       "      <th></th>\n",
       "      <th></th>\n",
       "      <th></th>\n",
       "      <th></th>\n",
       "      <th></th>\n",
       "      <th></th>\n",
       "      <th></th>\n",
       "      <th></th>\n",
       "      <th></th>\n",
       "      <th></th>\n",
       "      <th></th>\n",
       "      <th></th>\n",
       "      <th></th>\n",
       "      <th></th>\n",
       "      <th></th>\n",
       "      <th></th>\n",
       "      <th></th>\n",
       "    </tr>\n",
       "  </thead>\n",
       "  <tbody>\n",
       "    <tr>\n",
       "      <th>2011-06-01</th>\n",
       "      <td>BAJFINANCE</td>\n",
       "      <td>EQ</td>\n",
       "      <td>616.70</td>\n",
       "      <td>617.00</td>\n",
       "      <td>636.50</td>\n",
       "      <td>616.00</td>\n",
       "      <td>627.00</td>\n",
       "      <td>631.85</td>\n",
       "      <td>627.01</td>\n",
       "      <td>6894</td>\n",
       "      <td>...</td>\n",
       "      <td>NaN</td>\n",
       "      <td>NaN</td>\n",
       "      <td>NaN</td>\n",
       "      <td>NaN</td>\n",
       "      <td>NaN</td>\n",
       "      <td>NaN</td>\n",
       "      <td>NaN</td>\n",
       "      <td>NaN</td>\n",
       "      <td>NaN</td>\n",
       "      <td>NaN</td>\n",
       "    </tr>\n",
       "    <tr>\n",
       "      <th>2011-06-02</th>\n",
       "      <td>BAJFINANCE</td>\n",
       "      <td>EQ</td>\n",
       "      <td>631.85</td>\n",
       "      <td>625.00</td>\n",
       "      <td>638.90</td>\n",
       "      <td>620.00</td>\n",
       "      <td>634.00</td>\n",
       "      <td>633.45</td>\n",
       "      <td>636.04</td>\n",
       "      <td>2769</td>\n",
       "      <td>...</td>\n",
       "      <td>NaN</td>\n",
       "      <td>NaN</td>\n",
       "      <td>NaN</td>\n",
       "      <td>NaN</td>\n",
       "      <td>NaN</td>\n",
       "      <td>NaN</td>\n",
       "      <td>NaN</td>\n",
       "      <td>NaN</td>\n",
       "      <td>NaN</td>\n",
       "      <td>NaN</td>\n",
       "    </tr>\n",
       "    <tr>\n",
       "      <th>2011-06-03</th>\n",
       "      <td>BAJFINANCE</td>\n",
       "      <td>EQ</td>\n",
       "      <td>633.45</td>\n",
       "      <td>625.15</td>\n",
       "      <td>637.80</td>\n",
       "      <td>620.00</td>\n",
       "      <td>623.00</td>\n",
       "      <td>625.00</td>\n",
       "      <td>625.09</td>\n",
       "      <td>51427</td>\n",
       "      <td>...</td>\n",
       "      <td>1.201388</td>\n",
       "      <td>NaN</td>\n",
       "      <td>2.309401</td>\n",
       "      <td>NaN</td>\n",
       "      <td>26980.871860</td>\n",
       "      <td>NaN</td>\n",
       "      <td>1.685217e+12</td>\n",
       "      <td>NaN</td>\n",
       "      <td>670.500559</td>\n",
       "      <td>NaN</td>\n",
       "    </tr>\n",
       "    <tr>\n",
       "      <th>2011-06-06</th>\n",
       "      <td>BAJFINANCE</td>\n",
       "      <td>EQ</td>\n",
       "      <td>625.00</td>\n",
       "      <td>620.00</td>\n",
       "      <td>641.00</td>\n",
       "      <td>611.35</td>\n",
       "      <td>611.35</td>\n",
       "      <td>614.00</td>\n",
       "      <td>616.03</td>\n",
       "      <td>5446</td>\n",
       "      <td>...</td>\n",
       "      <td>1.625833</td>\n",
       "      <td>NaN</td>\n",
       "      <td>4.994080</td>\n",
       "      <td>NaN</td>\n",
       "      <td>27352.695339</td>\n",
       "      <td>NaN</td>\n",
       "      <td>1.710136e+12</td>\n",
       "      <td>NaN</td>\n",
       "      <td>148.769396</td>\n",
       "      <td>NaN</td>\n",
       "    </tr>\n",
       "    <tr>\n",
       "      <th>2011-06-07</th>\n",
       "      <td>BAJFINANCE</td>\n",
       "      <td>EQ</td>\n",
       "      <td>614.00</td>\n",
       "      <td>604.00</td>\n",
       "      <td>623.95</td>\n",
       "      <td>604.00</td>\n",
       "      <td>619.90</td>\n",
       "      <td>619.15</td>\n",
       "      <td>617.73</td>\n",
       "      <td>5991</td>\n",
       "      <td>...</td>\n",
       "      <td>9.062422</td>\n",
       "      <td>NaN</td>\n",
       "      <td>8.008797</td>\n",
       "      <td>NaN</td>\n",
       "      <td>26391.221653</td>\n",
       "      <td>NaN</td>\n",
       "      <td>1.652377e+12</td>\n",
       "      <td>NaN</td>\n",
       "      <td>78.270897</td>\n",
       "      <td>NaN</td>\n",
       "    </tr>\n",
       "  </tbody>\n",
       "</table>\n",
       "<p>5 rows × 34 columns</p>\n",
       "</div>"
      ],
      "text/plain": [
       "                Symbol Series  Prev Close    Open    High     Low    Last  \\\n",
       "Date                                                                        \n",
       "2011-06-01  BAJFINANCE     EQ      616.70  617.00  636.50  616.00  627.00   \n",
       "2011-06-02  BAJFINANCE     EQ      631.85  625.00  638.90  620.00  634.00   \n",
       "2011-06-03  BAJFINANCE     EQ      633.45  625.15  637.80  620.00  623.00   \n",
       "2011-06-06  BAJFINANCE     EQ      625.00  620.00  641.00  611.35  611.35   \n",
       "2011-06-07  BAJFINANCE     EQ      614.00  604.00  623.95  604.00  619.90   \n",
       "\n",
       "             Close    VWAP  Volume  ...  High rolling_std_3  \\\n",
       "Date                                ...                       \n",
       "2011-06-01  631.85  627.01    6894  ...                 NaN   \n",
       "2011-06-02  633.45  636.04    2769  ...                 NaN   \n",
       "2011-06-03  625.00  625.09   51427  ...            1.201388   \n",
       "2011-06-06  614.00  616.03    5446  ...            1.625833   \n",
       "2011-06-07  619.15  617.73    5991  ...            9.062422   \n",
       "\n",
       "            High rolling_std_7  Low rolling_std_3  Low rolling_std_7  \\\n",
       "Date                                                                   \n",
       "2011-06-01                 NaN                NaN                NaN   \n",
       "2011-06-02                 NaN                NaN                NaN   \n",
       "2011-06-03                 NaN           2.309401                NaN   \n",
       "2011-06-06                 NaN           4.994080                NaN   \n",
       "2011-06-07                 NaN           8.008797                NaN   \n",
       "\n",
       "            Volume rolling_std_3  Volume rolling_std_7  \\\n",
       "Date                                                     \n",
       "2011-06-01                   NaN                   NaN   \n",
       "2011-06-02                   NaN                   NaN   \n",
       "2011-06-03          26980.871860                   NaN   \n",
       "2011-06-06          27352.695339                   NaN   \n",
       "2011-06-07          26391.221653                   NaN   \n",
       "\n",
       "            Turnover rolling_std_3  Turnover rolling_std_7  \\\n",
       "Date                                                         \n",
       "2011-06-01                     NaN                     NaN   \n",
       "2011-06-02                     NaN                     NaN   \n",
       "2011-06-03            1.685217e+12                     NaN   \n",
       "2011-06-06            1.710136e+12                     NaN   \n",
       "2011-06-07            1.652377e+12                     NaN   \n",
       "\n",
       "            Trades rolling_std_3  Trades rolling_std_7  \n",
       "Date                                                    \n",
       "2011-06-01                   NaN                   NaN  \n",
       "2011-06-02                   NaN                   NaN  \n",
       "2011-06-03            670.500559                   NaN  \n",
       "2011-06-06            148.769396                   NaN  \n",
       "2011-06-07             78.270897                   NaN  \n",
       "\n",
       "[5 rows x 34 columns]"
      ]
     },
     "execution_count": 18,
     "metadata": {},
     "output_type": "execute_result"
    }
   ],
   "source": [
    "data.head()"
   ]
  },
  {
   "cell_type": "code",
   "execution_count": 19,
   "id": "901f601f",
   "metadata": {},
   "outputs": [
    {
     "data": {
      "text/plain": [
       "(2291, 34)"
      ]
     },
     "execution_count": 19,
     "metadata": {},
     "output_type": "execute_result"
    }
   ],
   "source": [
    "data.shape"
   ]
  },
  {
   "cell_type": "code",
   "execution_count": 20,
   "id": "db20b36e",
   "metadata": {},
   "outputs": [
    {
     "data": {
      "text/plain": [
       "Symbol                     0\n",
       "Series                     0\n",
       "Prev Close                 0\n",
       "Open                       0\n",
       "High                       0\n",
       "Low                        0\n",
       "Last                       0\n",
       "Close                      0\n",
       "VWAP                       0\n",
       "Volume                     0\n",
       "Turnover                   0\n",
       "Trades                     0\n",
       "Deliverable Volume         0\n",
       "%Deliverble                0\n",
       "High rolling_mean_3        2\n",
       "High rolling_mean_7        6\n",
       "Low rolling_mean_3         2\n",
       "Low rolling_mean_7         6\n",
       "Volume rolling_mean_3      2\n",
       "Volume rolling_mean_7      6\n",
       "Turnover rolling_mean_3    2\n",
       "Turnover rolling_mean_7    6\n",
       "Trades rolling_mean_3      2\n",
       "Trades rolling_mean_7      6\n",
       "High rolling_std_3         2\n",
       "High rolling_std_7         6\n",
       "Low rolling_std_3          2\n",
       "Low rolling_std_7          6\n",
       "Volume rolling_std_3       2\n",
       "Volume rolling_std_7       6\n",
       "Turnover rolling_std_3     2\n",
       "Turnover rolling_std_7     6\n",
       "Trades rolling_std_3       2\n",
       "Trades rolling_std_7       6\n",
       "dtype: int64"
      ]
     },
     "execution_count": 20,
     "metadata": {},
     "output_type": "execute_result"
    }
   ],
   "source": [
    "data.isna().sum()"
   ]
  },
  {
   "cell_type": "code",
   "execution_count": 21,
   "id": "b1a1a161",
   "metadata": {},
   "outputs": [],
   "source": [
    "data.dropna(inplace = True)"
   ]
  },
  {
   "cell_type": "code",
   "execution_count": 22,
   "id": "f652d1a8",
   "metadata": {},
   "outputs": [
    {
     "data": {
      "text/plain": [
       "Symbol                     0\n",
       "Series                     0\n",
       "Prev Close                 0\n",
       "Open                       0\n",
       "High                       0\n",
       "Low                        0\n",
       "Last                       0\n",
       "Close                      0\n",
       "VWAP                       0\n",
       "Volume                     0\n",
       "Turnover                   0\n",
       "Trades                     0\n",
       "Deliverable Volume         0\n",
       "%Deliverble                0\n",
       "High rolling_mean_3        0\n",
       "High rolling_mean_7        0\n",
       "Low rolling_mean_3         0\n",
       "Low rolling_mean_7         0\n",
       "Volume rolling_mean_3      0\n",
       "Volume rolling_mean_7      0\n",
       "Turnover rolling_mean_3    0\n",
       "Turnover rolling_mean_7    0\n",
       "Trades rolling_mean_3      0\n",
       "Trades rolling_mean_7      0\n",
       "High rolling_std_3         0\n",
       "High rolling_std_7         0\n",
       "Low rolling_std_3          0\n",
       "Low rolling_std_7          0\n",
       "Volume rolling_std_3       0\n",
       "Volume rolling_std_7       0\n",
       "Turnover rolling_std_3     0\n",
       "Turnover rolling_std_7     0\n",
       "Trades rolling_std_3       0\n",
       "Trades rolling_std_7       0\n",
       "dtype: int64"
      ]
     },
     "execution_count": 22,
     "metadata": {},
     "output_type": "execute_result"
    }
   ],
   "source": [
    "data.isna().sum()"
   ]
  },
  {
   "cell_type": "code",
   "execution_count": 23,
   "id": "6462abb6",
   "metadata": {},
   "outputs": [
    {
     "data": {
      "text/plain": [
       "Index(['Symbol', 'Series', 'Prev Close', 'Open', 'High', 'Low', 'Last',\n",
       "       'Close', 'VWAP', 'Volume', 'Turnover', 'Trades', 'Deliverable Volume',\n",
       "       '%Deliverble', 'High rolling_mean_3', 'High rolling_mean_7',\n",
       "       'Low rolling_mean_3', 'Low rolling_mean_7', 'Volume rolling_mean_3',\n",
       "       'Volume rolling_mean_7', 'Turnover rolling_mean_3',\n",
       "       'Turnover rolling_mean_7', 'Trades rolling_mean_3',\n",
       "       'Trades rolling_mean_7', 'High rolling_std_3', 'High rolling_std_7',\n",
       "       'Low rolling_std_3', 'Low rolling_std_7', 'Volume rolling_std_3',\n",
       "       'Volume rolling_std_7', 'Turnover rolling_std_3',\n",
       "       'Turnover rolling_std_7', 'Trades rolling_std_3',\n",
       "       'Trades rolling_std_7'],\n",
       "      dtype='object')"
      ]
     },
     "execution_count": 23,
     "metadata": {},
     "output_type": "execute_result"
    }
   ],
   "source": [
    "data.columns"
   ]
  },
  {
   "cell_type": "code",
   "execution_count": 24,
   "id": "9c1c12d2",
   "metadata": {},
   "outputs": [],
   "source": [
    "ind_features = ['High rolling_mean_3', 'High rolling_mean_7',\n",
    "       'Low rolling_mean_3', 'Low rolling_mean_7', 'Volume rolling_mean_3',\n",
    "       'Volume rolling_mean_7', 'Turnover rolling_mean_3',\n",
    "       'Turnover rolling_mean_7', 'Trades rolling_mean_3',\n",
    "       'Trades rolling_mean_7', 'High rolling_std_3', 'High rolling_std_7',\n",
    "       'Low rolling_std_3', 'Low rolling_std_7', 'Volume rolling_std_3',\n",
    "       'Volume rolling_std_7', 'Turnover rolling_std_3',\n",
    "       'Turnover rolling_std_7', 'Trades rolling_std_3',\n",
    "       'Trades rolling_std_7']"
   ]
  },
  {
   "cell_type": "code",
   "execution_count": 25,
   "id": "98e351a5",
   "metadata": {},
   "outputs": [],
   "source": [
    "training_data = data[0:1800]\n",
    "testing_data = data[1800:] "
   ]
  },
  {
   "cell_type": "code",
   "execution_count": 26,
   "id": "ef080835",
   "metadata": {},
   "outputs": [
    {
     "data": {
      "text/plain": [
       "(1800, 34)"
      ]
     },
     "execution_count": 26,
     "metadata": {},
     "output_type": "execute_result"
    }
   ],
   "source": [
    "training_data.shape"
   ]
  },
  {
   "cell_type": "code",
   "execution_count": 27,
   "id": "060c0187",
   "metadata": {},
   "outputs": [
    {
     "data": {
      "text/plain": [
       "(485, 34)"
      ]
     },
     "execution_count": 27,
     "metadata": {},
     "output_type": "execute_result"
    }
   ],
   "source": [
    "testing_data.shape"
   ]
  },
  {
   "cell_type": "markdown",
   "id": "48f3da7c",
   "metadata": {},
   "source": [
    "## Applying Auto-Arima on data "
   ]
  },
  {
   "cell_type": "code",
   "execution_count": 28,
   "id": "cdb52878",
   "metadata": {},
   "outputs": [
    {
     "name": "stdout",
     "output_type": "stream",
     "text": [
      "Defaulting to user installation because normal site-packages is not writeable\n",
      "Collecting pmdarima\n",
      "  Downloading pmdarima-1.8.2-cp38-cp38-manylinux1_x86_64.whl (1.5 MB)\n",
      "\u001b[K     |████████████████████████████████| 1.5 MB 440 kB/s eta 0:00:01\n",
      "\u001b[?25hCollecting Cython!=0.29.18,>=0.29\n",
      "  Downloading Cython-0.29.23-cp38-cp38-manylinux1_x86_64.whl (1.9 MB)\n",
      "\u001b[K     |████████████████████████████████| 1.9 MB 93 kB/s eta 0:00:011\n",
      "\u001b[?25hCollecting statsmodels!=0.12.0,>=0.11\n",
      "  Downloading statsmodels-0.12.2-cp38-cp38-manylinux1_x86_64.whl (9.4 MB)\n",
      "\u001b[K     |████████████████████████████████| 9.4 MB 289 kB/s eta 0:00:01     |████████████████████▊           | 6.1 MB 444 kB/s eta 0:00:08\n",
      "\u001b[?25hRequirement already satisfied: setuptools!=50.0.0,>=38.6.0 in /usr/lib/python3/dist-packages (from pmdarima) (45.2.0)\n",
      "Requirement already satisfied: scipy>=1.3.2 in /home/linus/.local/lib/python3.8/site-packages (from pmdarima) (1.6.1)\n",
      "Requirement already satisfied: numpy~=1.19.0 in /home/linus/.local/lib/python3.8/site-packages (from pmdarima) (1.19.5)\n",
      "Requirement already satisfied: urllib3 in /usr/lib/python3/dist-packages (from pmdarima) (1.25.8)\n",
      "Requirement already satisfied: scikit-learn>=0.22 in /home/linus/.local/lib/python3.8/site-packages (from pmdarima) (0.24.1)\n",
      "Requirement already satisfied: pandas>=0.19 in /home/linus/.local/lib/python3.8/site-packages (from pmdarima) (1.2.3)\n",
      "Requirement already satisfied: joblib>=0.11 in /home/linus/.local/lib/python3.8/site-packages (from pmdarima) (1.0.1)\n",
      "Requirement already satisfied: pytz>=2017.3 in /usr/lib/python3/dist-packages (from pandas>=0.19->pmdarima) (2019.3)\n",
      "Requirement already satisfied: python-dateutil>=2.7.3 in /usr/lib/python3/dist-packages (from pandas>=0.19->pmdarima) (2.7.3)\n",
      "Requirement already satisfied: threadpoolctl>=2.0.0 in /home/linus/.local/lib/python3.8/site-packages (from scikit-learn>=0.22->pmdarima) (2.1.0)\n",
      "Collecting patsy>=0.5\n",
      "  Downloading patsy-0.5.1-py2.py3-none-any.whl (231 kB)\n",
      "\u001b[K     |████████████████████████████████| 231 kB 525 kB/s eta 0:00:01\n",
      "\u001b[?25hRequirement already satisfied: six in /home/linus/.local/lib/python3.8/site-packages (from patsy>=0.5->statsmodels!=0.12.0,>=0.11->pmdarima) (1.15.0)\n",
      "Installing collected packages: patsy, statsmodels, Cython, pmdarima\n",
      "Successfully installed Cython-0.29.23 patsy-0.5.1 pmdarima-1.8.2 statsmodels-0.12.2\n",
      "\u001b[33mWARNING: You are using pip version 21.1.1; however, version 21.1.2 is available.\n",
      "You should consider upgrading via the '/usr/bin/python3 -m pip install --upgrade pip' command.\u001b[0m\n"
     ]
    }
   ],
   "source": [
    "!pip install pmdarima"
   ]
  },
  {
   "cell_type": "code",
   "execution_count": 32,
   "id": "acf83244",
   "metadata": {},
   "outputs": [],
   "source": [
    "import warnings\n",
    "warnings.filterwarnings('ignore')"
   ]
  },
  {
   "cell_type": "code",
   "execution_count": 30,
   "id": "01080ef8",
   "metadata": {},
   "outputs": [],
   "source": [
    "from pmdarima import auto_arima "
   ]
  },
  {
   "cell_type": "code",
   "execution_count": 33,
   "id": "9470b0aa",
   "metadata": {},
   "outputs": [
    {
     "name": "stdout",
     "output_type": "stream",
     "text": [
      "Performing stepwise search to minimize aic\n",
      " ARIMA(2,0,2)(0,0,0)[0] intercept   : AIC=20931.533, Time=9.07 sec\n",
      " ARIMA(0,0,0)(0,0,0)[0] intercept   : AIC=20925.222, Time=4.66 sec\n",
      " ARIMA(1,0,0)(0,0,0)[0] intercept   : AIC=20926.346, Time=4.94 sec\n",
      " ARIMA(0,0,1)(0,0,0)[0] intercept   : AIC=20926.318, Time=5.65 sec\n",
      " ARIMA(0,0,0)(0,0,0)[0]             : AIC=32616.913, Time=4.42 sec\n",
      " ARIMA(1,0,1)(0,0,0)[0] intercept   : AIC=20929.232, Time=6.45 sec\n",
      "\n",
      "Best model:  ARIMA(0,0,0)(0,0,0)[0] intercept\n",
      "Total fit time: 35.200 seconds\n"
     ]
    }
   ],
   "source": [
    "model = auto_arima(y = training_data['VWAP'], exogenous = training_data[ind_features], trace = True)"
   ]
  },
  {
   "cell_type": "markdown",
   "id": "c637c40b",
   "metadata": {},
   "source": [
    "## Fit the data "
   ]
  },
  {
   "cell_type": "code",
   "execution_count": 34,
   "id": "9e5233e5",
   "metadata": {},
   "outputs": [
    {
     "data": {
      "text/plain": [
       "ARIMA(order=(0, 0, 0), scoring_args={}, suppress_warnings=True)"
      ]
     },
     "execution_count": 34,
     "metadata": {},
     "output_type": "execute_result"
    }
   ],
   "source": [
    "model.fit(training_data['VWAP'], training_data[ind_features])"
   ]
  },
  {
   "cell_type": "code",
   "execution_count": 37,
   "id": "df8dadc9",
   "metadata": {},
   "outputs": [],
   "source": [
    "forecast = model.predict(n_periods = len(testing_data), exogenous = testing_data[ind_features])"
   ]
  },
  {
   "cell_type": "code",
   "execution_count": 38,
   "id": "1236ecf1",
   "metadata": {},
   "outputs": [
    {
     "data": {
      "text/plain": [
       "array([2600.80231235, 2625.2265955 , 2601.07549065, 2556.47081766,\n",
       "       2572.9132003 , 2509.20348223, 2223.70682638, 2289.5859587 ,\n",
       "       2479.85645742, 2279.32796519, 2185.17508933, 2117.39059689,\n",
       "       2083.41806352, 2153.72919345, 2116.12366494, 2030.37432657,\n",
       "       1925.08497053, 1981.40163703, 2025.87179194, 2084.77278087,\n",
       "       2139.96548983, 2060.7563327 , 2186.29499715, 2156.78049795,\n",
       "       2106.76232076, 2157.93122526, 2076.51121988, 2212.06486524,\n",
       "       2240.94914468, 2243.83713145, 2296.86158901, 2304.64156273,\n",
       "       2325.28395574, 2380.36831042, 2336.07332572, 2341.41709984,\n",
       "       2335.82101339, 2317.09849612, 2325.53460751, 2292.52129756,\n",
       "       2312.4056693 , 2328.55112142, 2309.47735695, 2355.89064969,\n",
       "       2343.83681059, 2377.65780595, 2385.32868807, 2372.64055703,\n",
       "       2382.27740743, 2378.87045093, 2384.7549229 , 2447.73702945,\n",
       "       2457.5366208 , 2483.01016838, 2507.52954339, 2494.47470208,\n",
       "       2452.96867225, 2441.76790691, 2428.16521474, 2377.62818273,\n",
       "       2379.0443781 , 2389.33263391, 2436.69849682, 2441.60317735,\n",
       "       2445.06528019, 2467.81906303, 2531.3953875 , 2629.38723102,\n",
       "       2608.19068237, 2576.59646103, 2544.98238648, 2581.45203892,\n",
       "       2587.82372377, 2598.41202691, 2592.51161817, 2567.85706932,\n",
       "       2574.94690076, 2561.0270052 , 2543.4320752 , 2531.15561602,\n",
       "       2530.14162805, 2508.89290937, 2498.52168845, 2508.9985711 ,\n",
       "       2525.2037149 , 2564.84539946, 2533.8993243 , 2555.21202137,\n",
       "       2545.1359027 , 2565.73316903, 2600.61515131, 2618.99864545,\n",
       "       2445.18024308, 2502.76468868, 2610.22723261, 2593.13437318,\n",
       "       2609.65425912, 2545.86580056, 2548.92774772, 2552.09706008,\n",
       "       2612.4977925 , 2668.98603489, 2690.90795004, 2677.21249902,\n",
       "       2639.13428882, 2591.50263841, 2529.08453565, 2522.59775156,\n",
       "       2530.16230122, 2552.70995475, 2603.59483507, 2612.17642509,\n",
       "       2646.4999099 , 2625.69889159, 2652.35947047, 2656.76384013,\n",
       "       2631.57550473, 2637.62054243, 2647.75546316, 2691.01412307,\n",
       "       2755.28024525, 2744.18044457, 2763.20852588, 2779.88174333,\n",
       "       2765.73174067, 2807.90366566, 2838.43427357, 2893.6100966 ,\n",
       "       2864.58292587, 2822.88793868, 2824.33671377, 2799.61349957,\n",
       "       2832.81780344, 2932.07682249, 3010.61337818, 2965.87257966,\n",
       "       2982.7660725 , 2981.27347744, 3003.2131677 , 3036.47865468,\n",
       "       3053.24640255, 3055.85593769, 3028.74618833, 2996.62136751,\n",
       "       3002.11137023, 2993.52741011, 2995.73960959, 2986.22065574,\n",
       "       2983.03819751, 3003.44190636, 3014.84254354, 3050.60570223,\n",
       "       3064.94234633, 3069.81334814, 3076.02902536, 3074.01556938,\n",
       "       3060.33175827, 3025.06007589, 2974.05885278, 2934.30146551,\n",
       "       2984.28517977, 2948.66568271, 2879.61729187, 2888.22463527,\n",
       "       2955.91681453, 3187.49095879, 3300.77852128, 3391.78699501,\n",
       "       3352.23346103, 3303.71189054, 3278.38792683, 3302.11153265,\n",
       "       3324.2184155 , 3346.88223734, 3395.04398907, 3398.3699949 ,\n",
       "       3453.07444021, 3481.64387745, 3442.95788762, 3429.07757202,\n",
       "       3416.69855596, 3417.63941517, 3445.84226704, 3447.97124928,\n",
       "       3459.47095913, 3450.5958996 , 3468.33354046, 3464.35555711,\n",
       "       3494.23226503, 3504.0891352 , 3508.83718995, 3515.2035375 ,\n",
       "       3526.98801699, 3553.07933796, 3605.39487489, 3654.4153977 ,\n",
       "       3657.31730698, 3650.53835271, 3648.46679612, 3690.60194167,\n",
       "       3551.57163047, 3636.56590337, 3855.83738551, 3650.26119316,\n",
       "       3510.52651103, 3361.91812435, 3254.234106  , 3301.13132663,\n",
       "       3356.83179796, 3248.84862571, 3286.90132254, 3403.01416553,\n",
       "       3263.58224555, 3242.46176728, 3287.49546175, 3226.4103861 ,\n",
       "       3075.79452128, 3162.59905833, 3135.46920448, 3135.77082382,\n",
       "       3088.15801681, 3125.62704262, 3077.67937368, 3130.74895907,\n",
       "       3233.14378953, 3205.46864018, 3242.38066598, 3244.0428495 ,\n",
       "       3199.61127644, 3200.26522904, 3172.88824047, 3094.53386633,\n",
       "       3007.48471815, 3135.68143051, 3104.61186744, 3156.28801326,\n",
       "       3180.33659862, 3158.55018667, 3186.59161217, 3201.70362286,\n",
       "       3192.30854051, 3212.48114218, 3273.53627951, 3324.52255091,\n",
       "       3356.74255765, 3346.11835699, 3340.51196198, 3339.00944919,\n",
       "       3359.93891765, 3360.74691953, 3655.61737179, 3713.23525526,\n",
       "       3883.47789914, 4017.86478827, 3925.14407511, 3857.54896603,\n",
       "       3746.89870758, 3844.33774533, 3838.21866744, 3826.09123941,\n",
       "       3753.07017759, 3813.82180144, 3814.41770484, 3874.44398694,\n",
       "       3844.59838502, 3826.08308605, 3892.22638098, 3891.03364976,\n",
       "       3975.7942744 , 4155.70322883, 4120.65042828, 4104.65333489,\n",
       "       3923.64781598, 3905.65956287, 3961.22089829, 4001.50765465,\n",
       "       4030.38565434, 4051.10499663, 4079.76307017, 4228.85325852,\n",
       "       4179.26578656, 4174.34415952, 4123.68227757, 4039.2570085 ,\n",
       "       4070.9264685 , 4087.79910038, 4131.92792967, 4156.60963685,\n",
       "       4140.21163246, 4115.35539613, 4087.72274758, 4027.81877996,\n",
       "       4051.59122001, 4108.60657251, 4086.34644848, 4062.79472811,\n",
       "       4015.22154856, 3986.5289067 , 3963.9614797 , 4028.07577813,\n",
       "       3961.86463303, 3920.47689673, 3874.71422779, 3854.69595174,\n",
       "       3854.93006673, 3897.23160408, 3936.38329797, 3965.31948956,\n",
       "       4021.00298389, 4042.27079804, 4071.54223848, 4074.11049085,\n",
       "       4059.99677237, 4074.94257   , 4105.25889324, 4135.22990945,\n",
       "       4168.77181244, 4189.53206647, 4204.52440118, 4196.0561008 ,\n",
       "       4162.8328242 , 4150.53233123, 4171.04717477, 4190.29578521,\n",
       "       4049.40765621, 3961.7036502 , 4019.74279737, 4066.92259205,\n",
       "       4106.67405522, 4139.00457697, 4172.99854455, 4156.66323268,\n",
       "       4165.49389529, 4178.41585426, 4130.34863147, 4117.68693009,\n",
       "       4100.93956861, 4130.87373594, 4436.24743749, 4594.05625671,\n",
       "       4685.24655571, 4484.5066639 , 4346.55967719, 4293.77289445,\n",
       "       4224.88949311, 4446.47609025, 4414.28320461, 4492.02285226,\n",
       "       4537.14843062, 4584.71664671, 4667.93716748, 4664.64858118,\n",
       "       4694.21036096, 4686.96005725, 4743.98733195, 4792.74537719,\n",
       "       4865.90811397, 4817.59927244, 4775.55128824, 4705.39608116,\n",
       "       4526.97728013, 4506.51771287, 4682.45708504, 4489.61369563,\n",
       "       4337.3129077 , 4106.25390632, 3863.18088122, 3975.58525238,\n",
       "       3699.51660905, 3387.46135464, 3520.59486071, 3318.87953265,\n",
       "       2932.65367038, 2549.18574728, 2639.2165479 , 2535.94677883,\n",
       "       2253.07243621, 2224.59450798, 2176.55474323, 2420.04840321,\n",
       "       2361.41911002, 2313.4371244 , 1996.72550414, 1938.12759009,\n",
       "       1860.22285906, 1933.8925967 , 2003.29657225, 2211.27175164,\n",
       "       2189.94908499, 2139.78532933, 2029.0798813 , 1888.55534513,\n",
       "       1899.22407599, 1796.90543297, 1979.20974557, 1903.99102002,\n",
       "       1848.14748498, 2187.95483769, 2110.05088844, 2105.5527498 ,\n",
       "       2006.73374205, 1764.29079083, 1794.83964273, 1781.598873  ,\n",
       "       1837.64345139, 1855.58085628, 1889.79665004, 1957.52332291,\n",
       "       2004.28037866, 2053.82447824, 1952.61406686, 1770.01119347,\n",
       "       1876.84354871, 1818.82468794, 1870.87036548, 1768.80380991,\n",
       "       1787.6548112 , 1708.59310824, 1705.20294139, 1903.064193  ,\n",
       "       2169.45505006, 2588.55035031, 2598.70707806, 2503.85768626,\n",
       "       2195.34284799, 1878.48336895, 1957.66137137, 1963.90438983,\n",
       "       1852.80683369, 1984.07148477, 2050.65133697, 2032.79202994,\n",
       "       2091.3659273 , 2166.02617511, 2419.13935402, 2922.24289378,\n",
       "       3054.50097946, 3063.99626223, 2624.04636434, 2259.72631701,\n",
       "       2234.37124248, 2252.37516516, 2368.86486701, 2369.70431039,\n",
       "       2477.42551725, 2950.01262835, 3461.59140963, 3875.52936774,\n",
       "       3427.22312602, 2983.25260241, 2398.81251045, 2239.84442956,\n",
       "       2414.66628387, 2515.01541823, 2553.48364802, 3149.29409334,\n",
       "       3488.0108919 , 3477.77273346, 3028.67424812, 2993.5384396 ,\n",
       "       2999.27337791, 3163.58466488, 3042.11098924, 2823.29344079,\n",
       "       2818.67324372, 2797.82854346, 2784.69597107, 2971.18886083,\n",
       "       3209.69125458, 3264.08954057, 3228.51571833, 3049.08768486,\n",
       "       3005.88187085, 2980.90218444, 3027.72998369, 3059.94562782,\n",
       "       3048.72075548, 3105.22346776, 3125.56811855, 3165.79689682,\n",
       "       3448.04454268, 3678.25355057, 3685.48834134, 3583.99355107,\n",
       "       3393.25513452])"
      ]
     },
     "execution_count": 38,
     "metadata": {},
     "output_type": "execute_result"
    }
   ],
   "source": [
    "forecast"
   ]
  },
  {
   "cell_type": "code",
   "execution_count": 39,
   "id": "f951c85d",
   "metadata": {},
   "outputs": [],
   "source": [
    "testing_data['forecast_ARIMA'] = forecast"
   ]
  },
  {
   "cell_type": "code",
   "execution_count": null,
   "id": "cecd6da4",
   "metadata": {},
   "outputs": [],
   "source": [
    "testing_data[['VWAP', 'forecast_ARIMA'] "
   ]
  }
 ],
 "metadata": {
  "kernelspec": {
   "display_name": "Python 3",
   "language": "python",
   "name": "python3"
  },
  "language_info": {
   "codemirror_mode": {
    "name": "ipython",
    "version": 3
   },
   "file_extension": ".py",
   "mimetype": "text/x-python",
   "name": "python",
   "nbconvert_exporter": "python",
   "pygments_lexer": "ipython3",
   "version": "3.8.5"
  }
 },
 "nbformat": 4,
 "nbformat_minor": 5
}
